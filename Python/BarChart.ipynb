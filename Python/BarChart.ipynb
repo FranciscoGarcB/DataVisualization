{
 "cells": [
  {
   "cell_type": "code",
   "execution_count": 14,
   "metadata": {},
   "outputs": [
    {
     "name": "stderr",
     "output_type": "stream",
     "text": [
      "C:\\Users\\Franc\\AppData\\Local\\Temp\\ipykernel_10380\\1588949626.py:2: DtypeWarning: Columns (0,1,2,8,9,12,13,15,17,18,19,21,22,23,24,25,28,29) have mixed types. Specify dtype option on import or set low_memory=False.\n",
      "  df = pd.read_csv(\"../../combined_file.csv\")\n"
     ]
    }
   ],
   "source": [
    "import pandas as pd\n",
    "df = pd.read_csv(\"../../combined_file.csv\")\n",
    "df.drop(['definition', 'column_name'], axis=1, inplace=True)"
   ]
  },
  {
   "cell_type": "code",
   "execution_count": 15,
   "metadata": {},
   "outputs": [
    {
     "data": {
      "text/html": [
       "<div>\n",
       "<style scoped>\n",
       "    .dataframe tbody tr th:only-of-type {\n",
       "        vertical-align: middle;\n",
       "    }\n",
       "\n",
       "    .dataframe tbody tr th {\n",
       "        vertical-align: top;\n",
       "    }\n",
       "\n",
       "    .dataframe thead th {\n",
       "        text-align: right;\n",
       "    }\n",
       "</style>\n",
       "<table border=\"1\" class=\"dataframe\">\n",
       "  <thead>\n",
       "    <tr style=\"text-align: right;\">\n",
       "      <th></th>\n",
       "      <th>city</th>\n",
       "      <th>common_name</th>\n",
       "      <th>height_M</th>\n",
       "    </tr>\n",
       "  </thead>\n",
       "  <tbody>\n",
       "    <tr>\n",
       "      <th>4</th>\n",
       "      <td>Albuquerque</td>\n",
       "      <td>Honeylocust</td>\n",
       "      <td>98.42520</td>\n",
       "    </tr>\n",
       "    <tr>\n",
       "      <th>5</th>\n",
       "      <td>Albuquerque</td>\n",
       "      <td>Honeylocust</td>\n",
       "      <td>114.82940</td>\n",
       "    </tr>\n",
       "    <tr>\n",
       "      <th>6</th>\n",
       "      <td>Albuquerque</td>\n",
       "      <td>Elm hybrid</td>\n",
       "      <td>98.42520</td>\n",
       "    </tr>\n",
       "    <tr>\n",
       "      <th>7</th>\n",
       "      <td>Albuquerque</td>\n",
       "      <td>Elm hybrid</td>\n",
       "      <td>82.02100</td>\n",
       "    </tr>\n",
       "    <tr>\n",
       "      <th>8</th>\n",
       "      <td>Albuquerque</td>\n",
       "      <td>Ash</td>\n",
       "      <td>49.21260</td>\n",
       "    </tr>\n",
       "    <tr>\n",
       "      <th>9</th>\n",
       "      <td>Albuquerque</td>\n",
       "      <td>Elm hybrid</td>\n",
       "      <td>82.02100</td>\n",
       "    </tr>\n",
       "    <tr>\n",
       "      <th>10</th>\n",
       "      <td>Albuquerque</td>\n",
       "      <td>Ash</td>\n",
       "      <td>65.61680</td>\n",
       "    </tr>\n",
       "    <tr>\n",
       "      <th>11</th>\n",
       "      <td>Albuquerque</td>\n",
       "      <td>Chinese elm</td>\n",
       "      <td>82.02100</td>\n",
       "    </tr>\n",
       "    <tr>\n",
       "      <th>12</th>\n",
       "      <td>Albuquerque</td>\n",
       "      <td>Chinese elm</td>\n",
       "      <td>65.61680</td>\n",
       "    </tr>\n",
       "    <tr>\n",
       "      <th>13</th>\n",
       "      <td>Albuquerque</td>\n",
       "      <td>Elm hybrid</td>\n",
       "      <td>59.05512</td>\n",
       "    </tr>\n",
       "  </tbody>\n",
       "</table>\n",
       "</div>"
      ],
      "text/plain": [
       "           city  common_name   height_M\n",
       "4   Albuquerque  Honeylocust   98.42520\n",
       "5   Albuquerque  Honeylocust  114.82940\n",
       "6   Albuquerque   Elm hybrid   98.42520\n",
       "7   Albuquerque   Elm hybrid   82.02100\n",
       "8   Albuquerque          Ash   49.21260\n",
       "9   Albuquerque   Elm hybrid   82.02100\n",
       "10  Albuquerque          Ash   65.61680\n",
       "11  Albuquerque  Chinese elm   82.02100\n",
       "12  Albuquerque  Chinese elm   65.61680\n",
       "13  Albuquerque   Elm hybrid   59.05512"
      ]
     },
     "execution_count": 15,
     "metadata": {},
     "output_type": "execute_result"
    }
   ],
   "source": [
    "df1 = df[[\"city\", \"common_name\", \"height_M\"]].dropna()\n",
    "df1 = df1[(df1[\"height_M\"] < 130) & (df1[\"height_M\"] > 0)]\n",
    "df1.head(10)"
   ]
  },
  {
   "cell_type": "code",
   "execution_count": 17,
   "metadata": {},
   "outputs": [
    {
     "name": "stdout",
     "output_type": "stream",
     "text": [
      "                city         common_name  count      mean_h\n",
      "0           Ahuimanu        Myrtle crape      7   67.491566\n",
      "1           Ahuimanu            Plumeria      1    6.561680\n",
      "2           Ahuimanu     Royal poinciana      5   62.335960\n",
      "3           Ahuimanu           Tulipwood      1   55.774280\n",
      "4        Albuquerque         Afghan pine     22   70.090673\n",
      "...              ...                 ...    ...         ...\n",
      "2327  Temple Terrace          Turkey oak      3  111.548560\n",
      "2328         Waipahu  Giant crape myrtle     13   67.888151\n",
      "2329         Waipahu       Golden shower      2   82.021000\n",
      "2330         Waipahu      Rainbow shower     25   89.763782\n",
      "2331         Waipahu           Tulipwood      1   45.931760\n",
      "\n",
      "[2332 rows x 4 columns]\n"
     ]
    }
   ],
   "source": [
    "# Agrupar por \"city\" y \"common_name\" y realizar operaciones de agregación\n",
    "result = df1.groupby(['city', 'common_name']).agg({'common_name': 'count', 'height_M': 'mean'})\n",
    "\n",
    "# Renombrar columnas para mayor claridad\n",
    "result = result.rename(columns={'common_name': 'count', 'height_M': 'mean_h'})\n",
    "\n",
    "# Restablecer el índice para obtener un DataFrame plano\n",
    "result = result.reset_index()\n",
    "\n",
    "# Mostrar el resultado\n",
    "print(result)"
   ]
  },
  {
   "cell_type": "code",
   "execution_count": 18,
   "metadata": {},
   "outputs": [],
   "source": [
    "# Save into a JSON file \n",
    "result.to_csv(\"../datasets/species_city.csv\", index=False)"
   ]
  }
 ],
 "metadata": {
  "kernelspec": {
   "display_name": "base",
   "language": "python",
   "name": "python3"
  },
  "language_info": {
   "codemirror_mode": {
    "name": "ipython",
    "version": 3
   },
   "file_extension": ".py",
   "mimetype": "text/x-python",
   "name": "python",
   "nbconvert_exporter": "python",
   "pygments_lexer": "ipython3",
   "version": "3.11.5"
  }
 },
 "nbformat": 4,
 "nbformat_minor": 2
}
