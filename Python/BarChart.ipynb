{
 "cells": [
  {
   "cell_type": "markdown",
   "metadata": {},
   "source": [
    "Analysis on the dataset to make decisions about the correct visualization"
   ]
  },
  {
   "cell_type": "code",
   "execution_count": 3,
   "metadata": {},
   "outputs": [
    {
     "name": "stderr",
     "output_type": "stream",
     "text": [
      "C:\\Users\\Franc\\AppData\\Local\\Temp\\ipykernel_10748\\964578165.py:2: DtypeWarning: Columns (0,1,2,8,9,12,13,15,17,18,19,21,22,23,24,25,28,29) have mixed types. Specify dtype option on import or set low_memory=False.\n",
      "  df = pd.read_csv(\"../combined_file.csv\")\n"
     ]
    }
   ],
   "source": [
    "import pandas as pd\n",
    "df = pd.read_csv(\"../combined_file.csv\")\n",
    "df.drop(['definition', 'column_name'], axis=1, inplace=True)"
   ]
  },
  {
   "cell_type": "code",
   "execution_count": 4,
   "metadata": {},
   "outputs": [],
   "source": [
    "df[[\"common_name\",\"scientific_name\"]] = df[[\"common_name\",\"scientific_name\"]].fillna(\"null\")"
   ]
  },
  {
   "cell_type": "code",
   "execution_count": 5,
   "metadata": {},
   "outputs": [
    {
     "data": {
      "text/plain": [
       "28"
      ]
     },
     "execution_count": 5,
     "metadata": {},
     "output_type": "execute_result"
    }
   ],
   "source": [
    "len(df.columns) "
   ]
  },
  {
   "cell_type": "code",
   "execution_count": 6,
   "metadata": {},
   "outputs": [
    {
     "data": {
      "text/plain": [
       "146"
      ]
     },
     "execution_count": 6,
     "metadata": {},
     "output_type": "execute_result"
    }
   ],
   "source": [
    "# Number of cities in original dataset\n",
    "cities = df[\"city\"].dropna().unique()\n",
    "len(cities)"
   ]
  },
  {
   "cell_type": "code",
   "execution_count": 7,
   "metadata": {},
   "outputs": [
    {
     "data": {
      "text/html": [
       "<div>\n",
       "<style scoped>\n",
       "    .dataframe tbody tr th:only-of-type {\n",
       "        vertical-align: middle;\n",
       "    }\n",
       "\n",
       "    .dataframe tbody tr th {\n",
       "        vertical-align: top;\n",
       "    }\n",
       "\n",
       "    .dataframe thead th {\n",
       "        text-align: right;\n",
       "    }\n",
       "</style>\n",
       "<table border=\"1\" class=\"dataframe\">\n",
       "  <thead>\n",
       "    <tr style=\"text-align: right;\">\n",
       "      <th></th>\n",
       "      <th>common_name</th>\n",
       "      <th>scientific_name</th>\n",
       "      <th>city</th>\n",
       "      <th>count</th>\n",
       "    </tr>\n",
       "  </thead>\n",
       "  <tbody>\n",
       "    <tr>\n",
       "      <th>663</th>\n",
       "      <td>Amur maple</td>\n",
       "      <td>Acer ginnala</td>\n",
       "      <td>Adair</td>\n",
       "      <td>8</td>\n",
       "    </tr>\n",
       "    <tr>\n",
       "      <th>374</th>\n",
       "      <td>American elm</td>\n",
       "      <td>Ulmus americana</td>\n",
       "      <td>Adair</td>\n",
       "      <td>2</td>\n",
       "    </tr>\n",
       "    <tr>\n",
       "      <th>2003</th>\n",
       "      <td>Boxelder</td>\n",
       "      <td>Acer negundo</td>\n",
       "      <td>Adair</td>\n",
       "      <td>1</td>\n",
       "    </tr>\n",
       "    <tr>\n",
       "      <th>7793</th>\n",
       "      <td>Maple</td>\n",
       "      <td>Acer</td>\n",
       "      <td>Adair</td>\n",
       "      <td>14</td>\n",
       "    </tr>\n",
       "    <tr>\n",
       "      <th>1880</th>\n",
       "      <td>Blue spruce</td>\n",
       "      <td>Picea pungens</td>\n",
       "      <td>Adair</td>\n",
       "      <td>22</td>\n",
       "    </tr>\n",
       "    <tr>\n",
       "      <th>8210</th>\n",
       "      <td>Mulberry</td>\n",
       "      <td>Morus</td>\n",
       "      <td>Adair</td>\n",
       "      <td>5</td>\n",
       "    </tr>\n",
       "    <tr>\n",
       "      <th>1382</th>\n",
       "      <td>Birch</td>\n",
       "      <td>Betula</td>\n",
       "      <td>Adair</td>\n",
       "      <td>2</td>\n",
       "    </tr>\n",
       "    <tr>\n",
       "      <th>8432</th>\n",
       "      <td>Northern catalpa</td>\n",
       "      <td>Catalpa speciosa</td>\n",
       "      <td>Adair</td>\n",
       "      <td>1</td>\n",
       "    </tr>\n",
       "    <tr>\n",
       "      <th>11316</th>\n",
       "      <td>Siberian elm</td>\n",
       "      <td>Ulmus pumila</td>\n",
       "      <td>Adair</td>\n",
       "      <td>4</td>\n",
       "    </tr>\n",
       "    <tr>\n",
       "      <th>4520</th>\n",
       "      <td>Elm</td>\n",
       "      <td>Ulmus</td>\n",
       "      <td>Adair</td>\n",
       "      <td>2</td>\n",
       "    </tr>\n",
       "  </tbody>\n",
       "</table>\n",
       "</div>"
      ],
      "text/plain": [
       "            common_name   scientific_name   city  count\n",
       "663          Amur maple      Acer ginnala  Adair      8\n",
       "374        American elm   Ulmus americana  Adair      2\n",
       "2003           Boxelder      Acer negundo  Adair      1\n",
       "7793              Maple              Acer  Adair     14\n",
       "1880        Blue spruce     Picea pungens  Adair     22\n",
       "8210           Mulberry             Morus  Adair      5\n",
       "1382              Birch            Betula  Adair      2\n",
       "8432   Northern catalpa  Catalpa speciosa  Adair      1\n",
       "11316      Siberian elm      Ulmus pumila  Adair      4\n",
       "4520                Elm             Ulmus  Adair      2"
      ]
     },
     "execution_count": 7,
     "metadata": {},
     "output_type": "execute_result"
    }
   ],
   "source": [
    "# Some records don't have a common_name and some others don't have a scientific name, so we are counting \n",
    "# the species knowing that each pair of common name - scientific name is ONE species\n",
    "\n",
    "# Number of species in original dataset\n",
    "species = df.groupby([\"common_name\", \"scientific_name\"]).size().reset_index().rename(columns={0:'count'})\n",
    "num_species = len(species)\n",
    "\n",
    "# Grouping by city\n",
    "df1 = df.groupby([\"common_name\", \"scientific_name\", \"city\"]).size().reset_index().rename(columns={0:'count'})\n",
    "df1.sort_values(by=['city']).head(10)"
   ]
  },
  {
   "cell_type": "code",
   "execution_count": 8,
   "metadata": {},
   "outputs": [
    {
     "data": {
      "text/plain": [
       "146"
      ]
     },
     "execution_count": 8,
     "metadata": {},
     "output_type": "execute_result"
    }
   ],
   "source": [
    "# Number of cities after groupby\n",
    "cities1 = df1[\"city\"].unique()\n",
    "len(cities1)"
   ]
  },
  {
   "cell_type": "code",
   "execution_count": 9,
   "metadata": {},
   "outputs": [
    {
     "data": {
      "text/plain": [
       "0"
      ]
     },
     "execution_count": 9,
     "metadata": {},
     "output_type": "execute_result"
    }
   ],
   "source": [
    "# Cities that were lost in the group-by process\n",
    "difference = [i for i in cities if i not in cities1]\n",
    "len(difference)"
   ]
  },
  {
   "cell_type": "code",
   "execution_count": 10,
   "metadata": {},
   "outputs": [
    {
     "data": {
      "text/plain": [
       "city\n",
       "Adair               31\n",
       "Adel                36\n",
       "Ahuimanu             4\n",
       "Aiea                 1\n",
       "Albuquerque        101\n",
       "                  ... \n",
       "Whitefish Bay       18\n",
       "Wind Lake            1\n",
       "Windsor Heights     49\n",
       "Woodward            45\n",
       "Worcester           96\n",
       "Name: count, Length: 146, dtype: int64"
      ]
     },
     "execution_count": 10,
     "metadata": {},
     "output_type": "execute_result"
    }
   ],
   "source": [
    "# Number of different species per city\n",
    "df1 = df1.groupby([\"city\"]).count()\n",
    "df1 = df1[\"count\"]\n",
    "df1"
   ]
  },
  {
   "cell_type": "code",
   "execution_count": 11,
   "metadata": {},
   "outputs": [],
   "source": [
    "# Save in a JSON file\n",
    "df1.to_csv(\"../datasets/species_per_city.csv\")"
   ]
  },
  {
   "cell_type": "code",
   "execution_count": 12,
   "metadata": {},
   "outputs": [
    {
     "name": "stdout",
     "output_type": "stream",
     "text": [
      "There are 6217 different species of trees.\n",
      "There are 146 cities in our dataset.\n"
     ]
    }
   ],
   "source": [
    "print(\"There are \" + str(num_species) + \" different species of trees.\")\n",
    "print(\"There are \" + str(df[\"city\"].nunique()) + \" cities in our dataset.\")"
   ]
  }
 ],
 "metadata": {
  "kernelspec": {
   "display_name": "base",
   "language": "python",
   "name": "python3"
  },
  "language_info": {
   "codemirror_mode": {
    "name": "ipython",
    "version": 3
   },
   "file_extension": ".py",
   "mimetype": "text/x-python",
   "name": "python",
   "nbconvert_exporter": "python",
   "pygments_lexer": "ipython3",
   "version": "3.11.5"
  }
 },
 "nbformat": 4,
 "nbformat_minor": 2
}
