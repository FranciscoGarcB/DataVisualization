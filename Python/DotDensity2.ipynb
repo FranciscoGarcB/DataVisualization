{
 "cells": [
  {
   "cell_type": "code",
   "execution_count": 1,
   "metadata": {},
   "outputs": [
    {
     "name": "stderr",
     "output_type": "stream",
     "text": [
      "C:\\Users\\Franc\\AppData\\Local\\Temp\\ipykernel_7340\\3877153638.py:2: DtypeWarning: Columns (0,1,2,8,9,12,13,15,17,18,19,21,22,23,24,25,28,29) have mixed types. Specify dtype option on import or set low_memory=False.\n",
      "  df = pd.read_csv(\"../../combined_file.csv\")\n"
     ]
    }
   ],
   "source": [
    "import pandas as pd\n",
    "df = pd.read_csv(\"../../combined_file.csv\")\n",
    "df = df[df[\"common_name\"] != \"ok to plant vacant\"]"
   ]
  },
  {
   "cell_type": "code",
   "execution_count": 2,
   "metadata": {},
   "outputs": [
    {
     "data": {
      "text/plain": [
       "Index(['most_recent_observation', 'most_recent_observation_type',\n",
       "       'common_name', 'scientific_name', 'city', 'state',\n",
       "       'longitude_coordinate', 'latitude_coordinate', 'address', 'condition',\n",
       "       'height_M', 'native', 'height_binned_M',\n",
       "       'diameter_breast_height_binned_CM', 'greater_metro', 'city_ID',\n",
       "       'tree_ID', 'planted_date', 'retired_date', 'location_type', 'zipcode',\n",
       "       'neighborhood', 'location_name', 'ward', 'district', 'overhead_utility',\n",
       "       'diameter_breast_height_CM', 'percent_population', 'column_name',\n",
       "       'definition'],\n",
       "      dtype='object')"
      ]
     },
     "execution_count": 2,
     "metadata": {},
     "output_type": "execute_result"
    }
   ],
   "source": [
    "df.columns"
   ]
  },
  {
   "cell_type": "code",
   "execution_count": 3,
   "metadata": {},
   "outputs": [
    {
     "name": "stdout",
     "output_type": "stream",
     "text": [
      "Total trees: 1042325\n"
     ]
    },
    {
     "data": {
      "text/plain": [
       "common_name\n",
       "Norway maple         142560\n",
       "London planetree     122493\n",
       "Red maple            121825\n",
       "Crape myrtle         121775\n",
       "Green ash             98282\n",
       "Callery pear          94271\n",
       "Honeylocust           91954\n",
       "Live oak              83648\n",
       "Pin oak               83187\n",
       "Littleleaf linden     82330\n",
       "Name: common_name, dtype: int64"
      ]
     },
     "execution_count": 3,
     "metadata": {},
     "output_type": "execute_result"
    }
   ],
   "source": [
    "top10_df = df.groupby([\"common_name\"])[\"common_name\"].count().sort_values(ascending=False).head(10)\n",
    "\n",
    "print(\"Total trees: \" + str(top10_df.sum()))\n",
    "top10_df"
   ]
  },
  {
   "cell_type": "code",
   "execution_count": 4,
   "metadata": {},
   "outputs": [
    {
     "data": {
      "text/plain": [
       "['Norway maple',\n",
       " 'London planetree',\n",
       " 'Red maple',\n",
       " 'Crape myrtle',\n",
       " 'Green ash',\n",
       " 'Callery pear',\n",
       " 'Honeylocust',\n",
       " 'Live oak',\n",
       " 'Pin oak',\n",
       " 'Littleleaf linden']"
      ]
     },
     "execution_count": 4,
     "metadata": {},
     "output_type": "execute_result"
    }
   ],
   "source": [
    "top10 = top10_df.index.to_list()\n",
    "top10"
   ]
  },
  {
   "cell_type": "code",
   "execution_count": 5,
   "metadata": {},
   "outputs": [],
   "source": [
    "df1 = df.copy()\n",
    "df1 = df1[[\"common_name\", \"latitude_coordinate\", \"longitude_coordinate\"]]\n",
    "df1 = df1[df1[\"common_name\"].isin(top10)]\n",
    "df1 = df1.dropna()"
   ]
  },
  {
   "cell_type": "code",
   "execution_count": 6,
   "metadata": {},
   "outputs": [
    {
     "data": {
      "text/html": [
       "<div>\n",
       "<style scoped>\n",
       "    .dataframe tbody tr th:only-of-type {\n",
       "        vertical-align: middle;\n",
       "    }\n",
       "\n",
       "    .dataframe tbody tr th {\n",
       "        vertical-align: top;\n",
       "    }\n",
       "\n",
       "    .dataframe thead th {\n",
       "        text-align: right;\n",
       "    }\n",
       "</style>\n",
       "<table border=\"1\" class=\"dataframe\">\n",
       "  <thead>\n",
       "    <tr style=\"text-align: right;\">\n",
       "      <th></th>\n",
       "      <th>common_name</th>\n",
       "      <th>latitude_coordinate</th>\n",
       "      <th>longitude_coordinate</th>\n",
       "    </tr>\n",
       "  </thead>\n",
       "  <tbody>\n",
       "    <tr>\n",
       "      <th>4</th>\n",
       "      <td>Honeylocust</td>\n",
       "      <td>35.149632</td>\n",
       "      <td>-106.716539</td>\n",
       "    </tr>\n",
       "    <tr>\n",
       "      <th>5</th>\n",
       "      <td>Honeylocust</td>\n",
       "      <td>35.149744</td>\n",
       "      <td>-106.716640</td>\n",
       "    </tr>\n",
       "    <tr>\n",
       "      <th>23</th>\n",
       "      <td>Honeylocust</td>\n",
       "      <td>35.148056</td>\n",
       "      <td>-106.715645</td>\n",
       "    </tr>\n",
       "  </tbody>\n",
       "</table>\n",
       "</div>"
      ],
      "text/plain": [
       "    common_name  latitude_coordinate  longitude_coordinate\n",
       "4   Honeylocust            35.149632           -106.716539\n",
       "5   Honeylocust            35.149744           -106.716640\n",
       "23  Honeylocust            35.148056           -106.715645"
      ]
     },
     "execution_count": 6,
     "metadata": {},
     "output_type": "execute_result"
    }
   ],
   "source": [
    "df1.head(3)"
   ]
  },
  {
   "cell_type": "code",
   "execution_count": 7,
   "metadata": {},
   "outputs": [],
   "source": [
    "import json\n",
    "data = df1.copy()\n",
    "\n",
    "features = []\n",
    "for index, row in data.iterrows():\n",
    "    latitude = row['latitude_coordinate']\n",
    "    longitude = row['longitude_coordinate']\n",
    "    name = row['common_name']\n",
    "\n",
    "    feature = {\n",
    "        'type': 'Feature',\n",
    "        'properties': {'name': name},\n",
    "        'geometry': {\n",
    "            'type': 'Point',\n",
    "            'coordinates': [float(longitude), float(latitude)]\n",
    "        }\n",
    "    }\n",
    "    features.append(feature)\n",
    "\n",
    "geojson = {\n",
    "'type': 'FeatureCollection',\n",
    "'features': features\n",
    "}\n",
    "\n",
    "with open('../datasets/dot-density2.geojson', 'w') as f:\n",
    "    json.dump(geojson, f)"
   ]
  },
  {
   "cell_type": "code",
   "execution_count": 8,
   "metadata": {},
   "outputs": [],
   "source": [
    "# df1.to_csv(\"../datasets/dot-density2.csv\", index=False)"
   ]
  }
 ],
 "metadata": {
  "kernelspec": {
   "display_name": "base",
   "language": "python",
   "name": "python3"
  },
  "language_info": {
   "codemirror_mode": {
    "name": "ipython",
    "version": 3
   },
   "file_extension": ".py",
   "mimetype": "text/x-python",
   "name": "python",
   "nbconvert_exporter": "python",
   "pygments_lexer": "ipython3",
   "version": "3.11.5"
  }
 },
 "nbformat": 4,
 "nbformat_minor": 2
}
