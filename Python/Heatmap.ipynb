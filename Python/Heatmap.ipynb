{
 "cells": [
  {
   "cell_type": "code",
   "execution_count": 1,
   "metadata": {},
   "outputs": [
    {
     "name": "stderr",
     "output_type": "stream",
     "text": [
      "C:\\Users\\Franc\\AppData\\Local\\Temp\\ipykernel_1540\\2358656560.py:2: DtypeWarning: Columns (0,1,2,8,9,12,13,15,17,18,19,21,22,23,24,25,28,29) have mixed types. Specify dtype option on import or set low_memory=False.\n",
      "  df = pd.read_csv(\"../../combined_file.csv\")\n"
     ]
    },
    {
     "data": {
      "text/plain": [
       "Index(['most_recent_observation', 'most_recent_observation_type',\n",
       "       'common_name', 'scientific_name', 'city', 'state',\n",
       "       'longitude_coordinate', 'latitude_coordinate', 'address', 'condition',\n",
       "       'height_M', 'native', 'height_binned_M',\n",
       "       'diameter_breast_height_binned_CM', 'greater_metro', 'city_ID',\n",
       "       'tree_ID', 'planted_date', 'retired_date', 'location_type', 'zipcode',\n",
       "       'neighborhood', 'location_name', 'ward', 'district', 'overhead_utility',\n",
       "       'diameter_breast_height_CM', 'percent_population'],\n",
       "      dtype='object')"
      ]
     },
     "execution_count": 1,
     "metadata": {},
     "output_type": "execute_result"
    }
   ],
   "source": [
    "import pandas as pd\n",
    "df = pd.read_csv(\"../../combined_file.csv\")\n",
    "df.drop(['definition', 'column_name'], axis=1, inplace=True)\n",
    "df.columns"
   ]
  },
  {
   "cell_type": "code",
   "execution_count": 2,
   "metadata": {},
   "outputs": [
    {
     "data": {
      "text/html": [
       "<div>\n",
       "<style scoped>\n",
       "    .dataframe tbody tr th:only-of-type {\n",
       "        vertical-align: middle;\n",
       "    }\n",
       "\n",
       "    .dataframe tbody tr th {\n",
       "        vertical-align: top;\n",
       "    }\n",
       "\n",
       "    .dataframe thead th {\n",
       "        text-align: right;\n",
       "    }\n",
       "</style>\n",
       "<table border=\"1\" class=\"dataframe\">\n",
       "  <thead>\n",
       "    <tr style=\"text-align: right;\">\n",
       "      <th></th>\n",
       "      <th>state</th>\n",
       "      <th>city</th>\n",
       "      <th>common_name</th>\n",
       "    </tr>\n",
       "  </thead>\n",
       "  <tbody>\n",
       "    <tr>\n",
       "      <th>0</th>\n",
       "      <td>New Mexico</td>\n",
       "      <td>Albuquerque</td>\n",
       "      <td>Locust</td>\n",
       "    </tr>\n",
       "    <tr>\n",
       "      <th>1</th>\n",
       "      <td>New Mexico</td>\n",
       "      <td>Albuquerque</td>\n",
       "      <td>Oak</td>\n",
       "    </tr>\n",
       "    <tr>\n",
       "      <th>2</th>\n",
       "      <td>New Mexico</td>\n",
       "      <td>Albuquerque</td>\n",
       "      <td>Ash</td>\n",
       "    </tr>\n",
       "    <tr>\n",
       "      <th>3</th>\n",
       "      <td>New Mexico</td>\n",
       "      <td>Albuquerque</td>\n",
       "      <td>Scotch pine</td>\n",
       "    </tr>\n",
       "    <tr>\n",
       "      <th>4</th>\n",
       "      <td>New Mexico</td>\n",
       "      <td>Albuquerque</td>\n",
       "      <td>Honeylocust</td>\n",
       "    </tr>\n",
       "    <tr>\n",
       "      <th>...</th>\n",
       "      <td>...</td>\n",
       "      <td>...</td>\n",
       "      <td>...</td>\n",
       "    </tr>\n",
       "    <tr>\n",
       "      <th>5642805</th>\n",
       "      <td>District of Columbia</td>\n",
       "      <td>Washington DC</td>\n",
       "      <td>Redmond american linden</td>\n",
       "    </tr>\n",
       "    <tr>\n",
       "      <th>5642806</th>\n",
       "      <td>District of Columbia</td>\n",
       "      <td>Washington DC</td>\n",
       "      <td>Dogwood</td>\n",
       "    </tr>\n",
       "    <tr>\n",
       "      <th>5642807</th>\n",
       "      <td>District of Columbia</td>\n",
       "      <td>Washington DC</td>\n",
       "      <td>Flowering dogwood</td>\n",
       "    </tr>\n",
       "    <tr>\n",
       "      <th>5642808</th>\n",
       "      <td>District of Columbia</td>\n",
       "      <td>Washington DC</td>\n",
       "      <td>(see notes)</td>\n",
       "    </tr>\n",
       "    <tr>\n",
       "      <th>5642809</th>\n",
       "      <td>District of Columbia</td>\n",
       "      <td>Washington DC</td>\n",
       "      <td>White oak</td>\n",
       "    </tr>\n",
       "  </tbody>\n",
       "</table>\n",
       "<p>4765590 rows × 3 columns</p>\n",
       "</div>"
      ],
      "text/plain": [
       "                        state           city              common_name\n",
       "0                  New Mexico    Albuquerque                   Locust\n",
       "1                  New Mexico    Albuquerque                      Oak\n",
       "2                  New Mexico    Albuquerque                      Ash\n",
       "3                  New Mexico    Albuquerque              Scotch pine\n",
       "4                  New Mexico    Albuquerque              Honeylocust\n",
       "...                       ...            ...                      ...\n",
       "5642805  District of Columbia  Washington DC  Redmond american linden\n",
       "5642806  District of Columbia  Washington DC                  Dogwood\n",
       "5642807  District of Columbia  Washington DC        Flowering dogwood\n",
       "5642808  District of Columbia  Washington DC              (see notes)\n",
       "5642809  District of Columbia  Washington DC                White oak\n",
       "\n",
       "[4765590 rows x 3 columns]"
      ]
     },
     "execution_count": 2,
     "metadata": {},
     "output_type": "execute_result"
    }
   ],
   "source": [
    "df = df[[\"state\", \"city\", \"common_name\"]]\n",
    "df = df.dropna()\n",
    "df"
   ]
  },
  {
   "cell_type": "code",
   "execution_count": 3,
   "metadata": {},
   "outputs": [
    {
     "name": "stdout",
     "output_type": "stream",
     "text": [
      "          state           city              common_name  count\n",
      "0       Arizona        Phoenix            African sumac      6\n",
      "1       Arizona        Phoenix              Aleppo pine      9\n",
      "2       Arizona        Phoenix                  Apricot      2\n",
      "3       Arizona        Phoenix  Arizona ash. velvet ash     12\n",
      "4       Arizona        Phoenix                      Ash      9\n",
      "...         ...            ...                      ...    ...\n",
      "2322  Wisconsin  Whitefish Bay              Honeylocust     10\n",
      "2323  Wisconsin  Whitefish Bay             Norway maple      2\n",
      "2324  Wisconsin  Whitefish Bay                  Red oak      7\n",
      "2325  Wisconsin  Whitefish Bay              Sugar maple      1\n",
      "2326  Wisconsin  Whitefish Bay                White ash      3\n",
      "\n",
      "[2327 rows x 4 columns]\n"
     ]
    }
   ],
   "source": [
    "# Top 30 most frequent trees per state\n",
    "top_trees_by_state = df['common_name'].groupby([df['state'], df['common_name']]).size().reset_index(name='count')\n",
    "top_trees_by_state = top_trees_by_state.groupby('state').apply(lambda x: x.nlargest(30, 'count')).reset_index(drop=True)\n",
    "\n",
    "# Count trees per city (only consider the trees in the top 30 of the state of the city)\n",
    "result = df.merge(top_trees_by_state, on=['state', 'common_name'], how='inner')\n",
    "result = result.groupby(['state', 'city', 'common_name']).size().reset_index(name='count')\n",
    "\n",
    "print(result)"
   ]
  },
  {
   "cell_type": "code",
   "execution_count": 4,
   "metadata": {},
   "outputs": [],
   "source": [
    "result.to_csv(\"../datasets/state_species_count.csv\", index=False)"
   ]
  }
 ],
 "metadata": {
  "kernelspec": {
   "display_name": "base",
   "language": "python",
   "name": "python3"
  },
  "language_info": {
   "codemirror_mode": {
    "name": "ipython",
    "version": 3
   },
   "file_extension": ".py",
   "mimetype": "text/x-python",
   "name": "python",
   "nbconvert_exporter": "python",
   "pygments_lexer": "ipython3",
   "version": "3.11.5"
  }
 },
 "nbformat": 4,
 "nbformat_minor": 2
}
